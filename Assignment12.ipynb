{
  "metadata": {
    "kernelspec": {
      "name": "python",
      "display_name": "Python (Pyodide)",
      "language": "python"
    },
    "language_info": {
      "codemirror_mode": {
        "name": "python",
        "version": 3
      },
      "file_extension": ".py",
      "mimetype": "text/x-python",
      "name": "python",
      "nbconvert_exporter": "python",
      "pygments_lexer": "ipython3",
      "version": "3.8"
    }
  },
  "nbformat_minor": 5,
  "nbformat": 4,
  "cells": [
    {
      "id": "538bf62d-961d-4ee8-b516-6428faa5b2ba",
      "cell_type": "code",
      "source": "def health_bot():\n    responses = {\n        \"hi\": \"Hello! I am HealthBot. How can I assist you today?\",\n        \"hello\": \"Hi! Do you have a health-related question?\",\n        \"i have a headache\": \"You should rest, stay hydrated, and take a mild pain reliever if needed.\",\n        \"what should i do if i have a fever?\": \"Drink plenty of fluids and rest. If the fever persists, please consult a doctor.\",\n        \"i feel dizzy\": \"Sit down, breathe deeply, and drink water. If it continues, seek medical help.\",\n        \"what should i eat for a cold?\": \"Warm fluids, soups, citrus fruits, and light meals help during a cold.\",\n        \"how to stay healthy?\": \"Eat balanced meals, exercise regularly, stay hydrated, and get enough sleep.\",\n        \"what should i do in case of a cut?\": \"Clean the wound with water, apply antiseptic, and cover it with a clean bandage.\",\n        \"how much water should i drink daily?\": \"Generally, 2 to 3 liters per day is recommended, but it varies based on your activity.\",\n        \"thank you\": \"You’re welcome! Take care.\",\n        \"bye\": \"Goodbye! Stay healthy.\"\n    }\n\n    print(\"HealthBot: Hello! I am HealthBot. How can I assist you today? (Type 'bye' to exit)\")\n    while True:\n        user_input = input(\"You: \").lower().strip()\n        if user_input in responses:\n            print(f\"HealthBot: {responses[user_input]}\")\n            if user_input == \"bye\":\n                break\n        else:\n            print(\"HealthBot: I'm sorry, I can only help with basic health-related questions.\")\n\n# Run the chatbot\nhealth_bot()\n",
      "metadata": {
        "trusted": true
      },
      "outputs": [],
      "execution_count": null
    }
  ]
}